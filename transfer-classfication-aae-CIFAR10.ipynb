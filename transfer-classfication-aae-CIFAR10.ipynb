{
 "cells": [
  {
   "cell_type": "code",
   "execution_count": null,
   "metadata": {
    "_cell_guid": "79c7e3d0-c299-4dcb-8224-4455121ee9b0",
    "_uuid": "d629ff2d2480ee46fbb7e2d37f6b5fab8052498a",
    "colab": {},
    "colab_type": "code",
    "id": "5YOMpe6q6VSe"
   },
   "outputs": [],
   "source": [
    "import numpy as np\n",
    "\n",
    "import torch\n",
    "import torchvision\n",
    "from torchvision import transforms, datasets\n",
    "from torch import nn\n",
    "\n",
    "from tqdm import tqdm\n",
    "\n",
    "from utilities import gpu_util as gp\n",
    "from utilities import visualize as vs\n",
    "from utilities import distros as ds\n",
    "from utilities import base_models as bm\n",
    "\n",
    "from hyperopt import fmin, tpe, hp, STATUS_OK, Trials\n",
    "\n",
    "from sklearn.preprocessing import OneHotEncoder\n",
    "from sklearn.linear_model import LogisticRegression\n",
    "from lightgbm import LGBMClassifier\n",
    "from sklearn.metrics import accuracy_score, classification_report, \\\n",
    "                            confusion_matrix, roc_auc_score\n",
    "\n",
    "from matplotlib import pyplot as plt"
   ]
  },
  {
   "cell_type": "code",
   "execution_count": null,
   "metadata": {
    "colab": {
     "base_uri": "https://localhost:8080/",
     "height": 255
    },
    "colab_type": "code",
    "executionInfo": {
     "elapsed": 4427,
     "status": "ok",
     "timestamp": 1572796639729,
     "user": {
      "displayName": "Hrenski",
      "photoUrl": "",
      "userId": "14043266298768509182"
     },
     "user_tz": 360
    },
    "id": "G6j0TCW-6VSj",
    "outputId": "9dc9c0a5-d953-4b57-8458-6c183566b0da"
   },
   "outputs": [],
   "source": [
    "batch_size = 64\n",
    "\n",
    "transform = transforms.Compose([transforms.Resize(64),\n",
    "                                transforms.ToTensor()])\n",
    "\n",
    "train_dataset = datasets.CIFAR10(root='./data', train=True, download=True, transform=transform)\n",
    "test_dataset = datasets.CIFAR10(root='./data', train=False, download=True, transform=transform)\n",
    "\n",
    "train_loader = torch.utils.data.DataLoader(train_dataset, batch_size=batch_size, shuffle=True)\n",
    "test_loader = torch.utils.data.DataLoader(test_dataset,batch_size=batch_size, shuffle=True)"
   ]
  },
  {
   "cell_type": "code",
   "execution_count": null,
   "metadata": {},
   "outputs": [],
   "source": [
    "tmploader = torch.utils.data.DataLoader(train_dataset, batch_size=25, shuffle=True)\n",
    "data, labels = next(iter(tmploader))\n",
    "vs.plot_labels(data, labels, pred = None, lbl_dict = train_dataset.class_to_idx, fig_shape = (5,5), figsize = (6,6), up_fctr = 2)"
   ]
  },
  {
   "cell_type": "code",
   "execution_count": null,
   "metadata": {},
   "outputs": [],
   "source": [
    "num_feat = 512\n",
    "num_dim = 400"
   ]
  },
  {
   "cell_type": "code",
   "execution_count": null,
   "metadata": {
    "colab": {
     "base_uri": "https://localhost:8080/",
     "height": 34
    },
    "colab_type": "code",
    "executionInfo": {
     "elapsed": 189,
     "status": "ok",
     "timestamp": 1572799038112,
     "user": {
      "displayName": "Hrenski",
      "photoUrl": "",
      "userId": "14043266298768509182"
     },
     "user_tz": 360
    },
    "id": "YvrevXbG6VSp",
    "outputId": "30e09767-b3c7-479e-cf47-7ee8ba858cd6"
   },
   "outputs": [],
   "source": [
    "cpu = torch.device('cpu')\n",
    "gpu = torch.device('cuda')\n",
    "\n",
    "use_gpu = torch.cuda.is_available()\n",
    "print(\"Using GPU: {0:s} - {1:0.3f} GB\".format(torch.cuda.get_device_name(0), \n",
    "                                              gp.get_gpu_memory_total() / 1000))"
   ]
  },
  {
   "cell_type": "code",
   "execution_count": null,
   "metadata": {
    "colab": {
     "base_uri": "https://localhost:8080/",
     "height": 34
    },
    "colab_type": "code",
    "executionInfo": {
     "elapsed": 189,
     "status": "ok",
     "timestamp": 1572799038112,
     "user": {
      "displayName": "Hrenski",
      "photoUrl": "",
      "userId": "14043266298768509182"
     },
     "user_tz": 360
    },
    "id": "YvrevXbG6VSp",
    "outputId": "30e09767-b3c7-479e-cf47-7ee8ba858cd6"
   },
   "outputs": [],
   "source": [
    "encoder = bm.Encoder_Faces(num_feat, num_dim)\n",
    "encoder.load_state_dict(torch.load('../storage/aae_encoder_checkpoint_0300.pth', map_location = cpu))\n",
    "encoder.eval()\n",
    "\n",
    "encoder = encoder.to(gpu)"
   ]
  },
  {
   "cell_type": "code",
   "execution_count": null,
   "metadata": {},
   "outputs": [],
   "source": [
    "trn_enc, trn_real = bm.apply_to_loader(encoder, train_loader, num_dim)\n",
    "tst_enc, tst_real = bm.apply_to_loader(encoder, test_loader, num_dim)"
   ]
  },
  {
   "cell_type": "code",
   "execution_count": null,
   "metadata": {},
   "outputs": [],
   "source": [
    "clf = LGBMClassifier(objective='multiclass')\n",
    "clf.fit(trn_enc, trn_real)\n",
    "\n",
    "ohe = OneHotEncoder(categories='auto', sparse=False)\n",
    "ohe.fit(trn_real.reshape(-1,1))\n",
    "\n",
    "trn_pred = clf.predict(trn_enc)\n",
    "trn_proba = clf.predict_proba(trn_enc)\n",
    "\n",
    "tst_pred = clf.predict(tst_enc)\n",
    "tst_proba = clf.predict_proba(tst_enc)\n",
    "\n",
    "print(clf)"
   ]
  },
  {
   "cell_type": "code",
   "execution_count": null,
   "metadata": {},
   "outputs": [],
   "source": [
    "print(\"{} RAW - TRAINING {}\".format(\"=\"*15, \"=\"*15))\n",
    "print(\"Accuracy: {:5.2f} %\".format(accuracy_score(trn_real, trn_pred) * 100))\n",
    "print(\"AUROC: {:5.2f} %\".format(roc_auc_score(ohe.transform(trn_real.reshape(-1,1)), trn_proba) * 100))\n",
    "print(classification_report(trn_real, trn_pred))\n",
    "\n",
    "fig, ax = plt.subplots(figsize = (12, 12))\n",
    "im, cbar = vs.heatmap(confusion_matrix(trn_real, trn_pred), train_dataset.classes, \n",
    "                      train_dataset.classes, ax=ax,cmap=\"YlGnBu\")\n",
    "texts = vs.annotate_heatmap(im, valfmt=\"{x:.0f}\", fontdict = vs.font)\n",
    "\n",
    "fig.tight_layout()\n",
    "plt.show()"
   ]
  },
  {
   "cell_type": "code",
   "execution_count": null,
   "metadata": {},
   "outputs": [],
   "source": [
    "print(\"{} RAW - TESTING {}\".format(\"=\"*15, \"=\"*15))\n",
    "print(\"Accuracy: {:5.2f} %\".format(accuracy_score(tst_real, tst_pred) * 100))\n",
    "print(\"AUROC: {:5.2f} %\".format(roc_auc_score(ohe.transform(tst_real.reshape(-1,1)), tst_proba) * 100))\n",
    "print(classification_report(tst_real, tst_pred))\n",
    "\n",
    "fig, ax = plt.subplots(figsize = (12, 12))\n",
    "im, cbar = vs.heatmap(confusion_matrix(tst_real, tst_pred), train_dataset.classes, \n",
    "                      train_dataset.classes, ax=ax,cmap=\"YlGnBu\")\n",
    "texts = vs.annotate_heatmap(im, valfmt=\"{x:.0f}\", fontdict = vs.font)\n",
    "\n",
    "fig.tight_layout()\n",
    "plt.show()"
   ]
  },
  {
   "cell_type": "code",
   "execution_count": null,
   "metadata": {},
   "outputs": [],
   "source": [
    "tmploader = torch.utils.data.DataLoader(test_dataset, batch_size=25, shuffle=True)\n",
    "data, labels = next(iter(tmploader))\n",
    "\n",
    "mini_Dataset = torch.utils.data.TensorDataset(data, labels)\n",
    "mini_loader = torch.utils.data.DataLoader(mini_Dataset, batch_size=25, shuffle=True)\n",
    "\n",
    "mini_enc, mini_real = bm.apply_to_loader(encoder, mini_loader, num_dim)\n",
    "mini_pred = clf.predict(mini_enc)\n",
    "mini_proba = clf.predict_proba(mini_enc)\n",
    "\n",
    "vs.plot_labels(data, labels, pred = mini_pred, lbl_dict = train_dataset.class_to_idx, fig_shape = (5,5), figsize = (6,6), up_fctr = 2)"
   ]
  }
 ],
 "metadata": {
  "accelerator": "GPU",
  "colab": {
   "collapsed_sections": [],
   "name": "cnn-pytorch-mnist.ipynb",
   "provenance": []
  },
  "kernelspec": {
   "display_name": "Python 3",
   "language": "python",
   "name": "python3"
  },
  "language_info": {
   "codemirror_mode": {
    "name": "ipython",
    "version": 3
   },
   "file_extension": ".py",
   "mimetype": "text/x-python",
   "name": "python",
   "nbconvert_exporter": "python",
   "pygments_lexer": "ipython3",
   "version": "3.6.8"
  }
 },
 "nbformat": 4,
 "nbformat_minor": 1
}
